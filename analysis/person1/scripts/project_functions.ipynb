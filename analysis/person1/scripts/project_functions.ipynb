{
 "cells": [
  {
   "cell_type": "code",
   "execution_count": 30,
   "id": "d8affb0a-7122-4918-be94-7fe154f852a1",
   "metadata": {},
   "outputs": [
    {
     "data": {
      "image/png": "[encoded data removed]",
      "text/plain": [
       "<Figure size 360x360 with 1 Axes>"
      ]
     },
     "metadata": {
      "needs_background": "light"
     },
     "output_type": "display_data"
    }
   ],
   "source": [
    "import pandas as pd\n",
    "import numpy as np\n",
    "import filetype \n",
    "import seaborn as sns\n",
    "filepath='../../../data/raw/chord-fingers.csv'\n",
    "\n",
    "def load_n_process(filepath):\n",
    "    df1 = (\n",
    "        pd.read_csv(filepath,  delimiter = ';')\n",
    "        #rename columns to shortened/abbreviated names\n",
    "        .rename(columns={'CHORD_ROOT':'root','CHORD_TYPE':'type','CHORD_STRUCTURE':'struct','FINGER_POSITIONS':'f_pos','NOTE_NAMES':'notes'})\n",
    "        #create difficulty column and assign values easy or hard based on chord root and type\n",
    "        .assign(difficulty=lambda x: np.where((x.type=='maj')&(x.root=='A')|(x.root=='C')|(x.root=='G')|(x.root=='D'),'easy','hard'))\n",
    "        #sort df based on difficulty\n",
    "        #.loc[lambda x: x['difficulty']=='easy']\n",
    "        #display chord roots in alphabetical order\n",
    "        .sort_values('root', ascending=True)\n",
    "        #Describe the data\n",
    "    )\n",
    "    return df1\n",
    "def descData(dataframe):\n",
    "    return dataframe.describe().T\n",
    "def getInfo(dataframe):\n",
    "    return dataframe.info()\n",
    "def countInstanceViz(df, x_axis):\n",
    "    sns.displot(df[x_axis])\n",
    "\n",
    "df = load_n_process(filepath)\n",
    "descData(df)\n",
    "df\n",
    "#visualization of hard vs easy guitar chords \n",
    "countInstanceViz(df,'difficulty')"
   ]
  },
  {
   "cell_type": "code",
   "execution_count": null,
   "id": "62c6a8dd-4c39-497a-9e0b-8883f8f5bddf",
   "metadata": {},
   "outputs": [],
   "source": []
  }
 ],
 "metadata": {
  "kernelspec": {
   "display_name": "Python 3 (ipykernel)",
   "language": "python",
   "name": "python3"
  },
  "language_info": {
   "codemirror_mode": {
    "name": "ipython",
    "version": 3
   },
   "file_extension": ".py",
   "mimetype": "text/x-python",
   "name": "python",
   "nbconvert_exporter": "python",
   "pygments_lexer": "ipython3",
   "version": "3.8.5"
  }
 },
 "nbformat": 4,
 "nbformat_minor": 5
}
